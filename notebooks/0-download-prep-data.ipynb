{
 "cells": [
  {
   "cell_type": "code",
   "execution_count": 1,
   "id": "210e6d5d",
   "metadata": {},
   "outputs": [],
   "source": [
    "%load_ext lab_black"
   ]
  },
  {
   "cell_type": "code",
   "execution_count": 2,
   "id": "2bba17ed",
   "metadata": {},
   "outputs": [],
   "source": [
    "import os\n",
    "\n",
    "from sklearn.datasets import load_breast_cancer\n",
    "from sklearn.model_selection import train_test_split\n",
    "\n",
    "import joblib"
   ]
  },
  {
   "cell_type": "code",
   "execution_count": 3,
   "id": "1119e7cb",
   "metadata": {},
   "outputs": [],
   "source": [
    "DATA_DIR = os.path.join(\"..\", \"data\")\n",
    "TRAIN_CSV_PATH = os.path.join(DATA_DIR, \"train.csv\")\n",
    "TEST_CSV_PATH = os.path.join(DATA_DIR, \"test.csv\")\n",
    "CLASS_NAMES_PATH = os.path.join(DATA_DIR, \"class_names.joblib\")"
   ]
  },
  {
   "cell_type": "code",
   "execution_count": 4,
   "id": "07201c89",
   "metadata": {},
   "outputs": [],
   "source": [
    "os.makedirs(DATA_DIR, exist_ok=True)"
   ]
  },
  {
   "cell_type": "code",
   "execution_count": 5,
   "id": "0e196fb5",
   "metadata": {},
   "outputs": [],
   "source": [
    "bunch = load_breast_cancer(as_frame=True)\n",
    "df = bunch.frame\n",
    "class_names = list(bunch.target_names)"
   ]
  },
  {
   "cell_type": "code",
   "execution_count": 6,
   "id": "41c1527c",
   "metadata": {},
   "outputs": [],
   "source": [
    "train_df, test_df = train_test_split(\n",
    "    df, stratify=df[\"target\"], test_size=0.2, random_state=42\n",
    ")"
   ]
  },
  {
   "cell_type": "code",
   "execution_count": 7,
   "id": "057e6c23",
   "metadata": {},
   "outputs": [],
   "source": [
    "train_df.to_csv(TRAIN_CSV_PATH, index=False)\n",
    "test_df.to_csv(TEST_CSV_PATH, index=False)"
   ]
  },
  {
   "cell_type": "code",
   "execution_count": 8,
   "id": "accf5496",
   "metadata": {},
   "outputs": [
    {
     "data": {
      "text/plain": [
       "['../data/class_names.joblib']"
      ]
     },
     "execution_count": 8,
     "metadata": {},
     "output_type": "execute_result"
    }
   ],
   "source": [
    "joblib.dump(class_names, CLASS_NAMES_PATH)"
   ]
  }
 ],
 "metadata": {
  "environment": {
   "name": "common-cpu.m65",
   "type": "gcloud",
   "uri": "gcr.io/deeplearning-platform-release/base-cpu:m65"
  },
  "kernelspec": {
   "display_name": "Python 3",
   "language": "python",
   "name": "python3"
  },
  "language_info": {
   "codemirror_mode": {
    "name": "ipython",
    "version": 3
   },
   "file_extension": ".py",
   "mimetype": "text/x-python",
   "name": "python",
   "nbconvert_exporter": "python",
   "pygments_lexer": "ipython3",
   "version": "3.7.10"
  }
 },
 "nbformat": 4,
 "nbformat_minor": 5
}
